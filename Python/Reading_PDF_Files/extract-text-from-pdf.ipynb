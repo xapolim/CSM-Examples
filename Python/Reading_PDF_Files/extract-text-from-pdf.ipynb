{
 "cells": [
  {
   "cell_type": "code",
   "execution_count": 13,
   "metadata": {},
   "outputs": [
    {
     "name": "stdout",
     "output_type": "stream",
     "text": [
      "Fundo de Aposentadoria e Pensões FAPES-TOLEDODemonstrativo de PagamentoServidor::138621 - ALDACIR ALVES FREIRE01/10/2010Dezembro / 2012Cargo:PROFESSOR ILotação:SECRETARIA DA EDUCACAOCódigoDescriçãoReferênciaVantagensDescontostoledo, 1 - Toledo08.885.045/0001-00142PROV INATIVIDADE1.993,99603IMPOSTO DE RENDA0,075026,76613MENSALID SINDICAL0,010019,93619CAST0,0600119,63640EMPREST CAIXA ECON02/14358,90681SEG VIDA-ASSERMUTO9,59Total VantagensTotal DescontosTotal Líquido1.993,99534,811.459,18Salário BaseBase PrevidênciaBase FGTSFGTSBase IRRFAlíquota IRRF1.993,990,000,000,001.993,997,50\n"
     ]
    }
   ],
   "source": [
    "#extraindo texto plano de um pdf utilizando PyPDF2\n",
    "\n",
    "import PyPDF2\n",
    "import re\n",
    "\n",
    "pdf_file = open('holerite1.pdf', 'rb')\n",
    "read_pdf = PyPDF2.PdfFileReader(pdf_file)\n",
    "number_of_pages = read_pdf.getNumPages()\n",
    "page = read_pdf.getPage(0)\n",
    "page_content = page.extractText()\n",
    "page_content\n",
    "\n",
    "parsed = ''.join(page_content)\n",
    "parsed = re.sub('\\n', '', parsed)\n",
    "parsed = re.sub('4dmissão', '', parsed)\n",
    "novastring = parsed[0:50]\n",
    "print(parsed)"
   ]
  },
  {
   "cell_type": "code",
   "execution_count": 19,
   "metadata": {},
   "outputs": [
    {
     "data": {
      "text/html": [
       "<div>\n",
       "<style scoped>\n",
       "    .dataframe tbody tr th:only-of-type {\n",
       "        vertical-align: middle;\n",
       "    }\n",
       "\n",
       "    .dataframe tbody tr th {\n",
       "        vertical-align: top;\n",
       "    }\n",
       "\n",
       "    .dataframe thead th {\n",
       "        text-align: right;\n",
       "    }\n",
       "</style>\n",
       "<table border=\"1\" class=\"dataframe\">\n",
       "  <thead>\n",
       "    <tr style=\"text-align: right;\">\n",
       "      <th></th>\n",
       "      <th>Unnamed: 0</th>\n",
       "      <th>Fundo de Aposentadoria e Pensões FAPES-TOLEDO Demonstrativo de Pagamento</th>\n",
       "    </tr>\n",
       "  </thead>\n",
       "  <tbody>\n",
       "    <tr>\n",
       "      <th>0</th>\n",
       "      <td>NaN</td>\n",
       "      <td>toledo, 1 - Toledo</td>\n",
       "    </tr>\n",
       "    <tr>\n",
       "      <th>1</th>\n",
       "      <td>NaN</td>\n",
       "      <td>Dezembro / 201208.885.045/0001-00</td>\n",
       "    </tr>\n",
       "    <tr>\n",
       "      <th>2</th>\n",
       "      <td>NaN</td>\n",
       "      <td>Servidor: 138621 - ALDACIR ALVES FREIRE Admiss...</td>\n",
       "    </tr>\n",
       "    <tr>\n",
       "      <th>3</th>\n",
       "      <td>NaN</td>\n",
       "      <td>Cargo: PROFESSOR I Lotação: SECRETARIA DA EDUC...</td>\n",
       "    </tr>\n",
       "    <tr>\n",
       "      <th>4</th>\n",
       "      <td>Código</td>\n",
       "      <td>Descrição Referência Vantagens Descontos</td>\n",
       "    </tr>\n",
       "    <tr>\n",
       "      <th>5</th>\n",
       "      <td>142</td>\n",
       "      <td>PROV INATIVIDADE 1.993,99</td>\n",
       "    </tr>\n",
       "    <tr>\n",
       "      <th>6</th>\n",
       "      <td>603</td>\n",
       "      <td>IMPOSTO DE RENDA 0,0750 26,76</td>\n",
       "    </tr>\n",
       "    <tr>\n",
       "      <th>7</th>\n",
       "      <td>613</td>\n",
       "      <td>MENSALID SINDICAL 0,0100 19,93</td>\n",
       "    </tr>\n",
       "    <tr>\n",
       "      <th>8</th>\n",
       "      <td>619</td>\n",
       "      <td>CAST 0,0600 119,63</td>\n",
       "    </tr>\n",
       "    <tr>\n",
       "      <th>9</th>\n",
       "      <td>640</td>\n",
       "      <td>EMPREST CAIXA ECON 02/14 358,90</td>\n",
       "    </tr>\n",
       "    <tr>\n",
       "      <th>10</th>\n",
       "      <td>681</td>\n",
       "      <td>SEG VIDA-ASSERMUTO 9,59</td>\n",
       "    </tr>\n",
       "    <tr>\n",
       "      <th>11</th>\n",
       "      <td>NaN</td>\n",
       "      <td>Total Vantagens Total Descontos</td>\n",
       "    </tr>\n",
       "    <tr>\n",
       "      <th>12</th>\n",
       "      <td>NaN</td>\n",
       "      <td>1.993,99 534,81</td>\n",
       "    </tr>\n",
       "    <tr>\n",
       "      <th>13</th>\n",
       "      <td>NaN</td>\n",
       "      <td>Total Líquido 1.459,18</td>\n",
       "    </tr>\n",
       "    <tr>\n",
       "      <th>14</th>\n",
       "      <td>Salário Base</td>\n",
       "      <td>Base Previdência Base FGTS FGTS Base IRRF Alíq...</td>\n",
       "    </tr>\n",
       "    <tr>\n",
       "      <th>15</th>\n",
       "      <td>1.993,99</td>\n",
       "      <td>0,00 0,00 0,00 1.993,99 7,50</td>\n",
       "    </tr>\n",
       "  </tbody>\n",
       "</table>\n",
       "</div>"
      ],
      "text/plain": [
       "      Unnamed: 0  \\\n",
       "0            NaN   \n",
       "1            NaN   \n",
       "2            NaN   \n",
       "3            NaN   \n",
       "4         Código   \n",
       "5            142   \n",
       "6            603   \n",
       "7            613   \n",
       "8            619   \n",
       "9            640   \n",
       "10           681   \n",
       "11           NaN   \n",
       "12           NaN   \n",
       "13           NaN   \n",
       "14  Salário Base   \n",
       "15      1.993,99   \n",
       "\n",
       "   Fundo de Aposentadoria e Pensões FAPES-TOLEDO Demonstrativo de Pagamento  \n",
       "0                                  toledo, 1 - Toledo                        \n",
       "1                   Dezembro / 201208.885.045/0001-00                        \n",
       "2   Servidor: 138621 - ALDACIR ALVES FREIRE Admiss...                        \n",
       "3   Cargo: PROFESSOR I Lotação: SECRETARIA DA EDUC...                        \n",
       "4            Descrição Referência Vantagens Descontos                        \n",
       "5                           PROV INATIVIDADE 1.993,99                        \n",
       "6                       IMPOSTO DE RENDA 0,0750 26,76                        \n",
       "7                      MENSALID SINDICAL 0,0100 19,93                        \n",
       "8                                  CAST 0,0600 119,63                        \n",
       "9                     EMPREST CAIXA ECON 02/14 358,90                        \n",
       "10                            SEG VIDA-ASSERMUTO 9,59                        \n",
       "11                    Total Vantagens Total Descontos                        \n",
       "12                                    1.993,99 534,81                        \n",
       "13                             Total Líquido 1.459,18                        \n",
       "14  Base Previdência Base FGTS FGTS Base IRRF Alíq...                        \n",
       "15                       0,00 0,00 0,00 1.993,99 7,50                        "
      ]
     },
     "execution_count": 19,
     "metadata": {},
     "output_type": "execute_result"
    }
   ],
   "source": [
    "#importando tabelas em pdf usando o pytabula\n",
    "\n",
    "from tabula import read_pdf\n",
    "\n",
    "df = read_pdf(\"holerite1.pdf\")\n",
    "df"
   ]
  },
  {
   "cell_type": "code",
   "execution_count": 25,
   "metadata": {},
   "outputs": [
    {
     "data": {
      "text/plain": [
       "'Servidor: 138621 - ALDACIR ALVES FREIRE Admissão: 01/10/2010'"
      ]
     },
     "execution_count": 25,
     "metadata": {},
     "output_type": "execute_result"
    }
   ],
   "source": [
    "df.iloc[2][1]"
   ]
  },
  {
   "cell_type": "code",
   "execution_count": 15,
   "metadata": {},
   "outputs": [
    {
     "data": {
      "text/plain": [
       "Unnamed: 0                                                                                 NaN\n",
       "Fundo de Aposentadoria e Pensões FAPES-TOLEDO Demonstrativo de Pagamento    toledo, 1 - Toledo\n",
       "Name: 0, dtype: object"
      ]
     },
     "execution_count": 15,
     "metadata": {},
     "output_type": "execute_result"
    }
   ],
   "source": [
    "df.iloc[0]"
   ]
  },
  {
   "cell_type": "code",
   "execution_count": 18,
   "metadata": {},
   "outputs": [
    {
     "data": {
      "text/html": [
       "<div>\n",
       "<style scoped>\n",
       "    .dataframe tbody tr th:only-of-type {\n",
       "        vertical-align: middle;\n",
       "    }\n",
       "\n",
       "    .dataframe tbody tr th {\n",
       "        vertical-align: top;\n",
       "    }\n",
       "\n",
       "    .dataframe thead th {\n",
       "        text-align: right;\n",
       "    }\n",
       "</style>\n",
       "<table border=\"1\" class=\"dataframe\">\n",
       "  <thead>\n",
       "    <tr style=\"text-align: right;\">\n",
       "      <th></th>\n",
       "      <th>Nome</th>\n",
       "      <th>Idade</th>\n",
       "      <th>Sexo</th>\n",
       "      <th>Cabelo</th>\n",
       "    </tr>\n",
       "  </thead>\n",
       "  <tbody>\n",
       "    <tr>\n",
       "      <th>0</th>\n",
       "      <td>Vinicius</td>\n",
       "      <td>22</td>\n",
       "      <td>Masculino</td>\n",
       "      <td>Marron</td>\n",
       "    </tr>\n",
       "    <tr>\n",
       "      <th>1</th>\n",
       "      <td>Jade</td>\n",
       "      <td>30</td>\n",
       "      <td>Feminino</td>\n",
       "      <td>Loiro</td>\n",
       "    </tr>\n",
       "    <tr>\n",
       "      <th>2</th>\n",
       "      <td>Ligia</td>\n",
       "      <td>10</td>\n",
       "      <td>Feminino</td>\n",
       "      <td>Preto</td>\n",
       "    </tr>\n",
       "  </tbody>\n",
       "</table>\n",
       "</div>"
      ],
      "text/plain": [
       "       Nome  Idade       Sexo  Cabelo\n",
       "0  Vinicius     22  Masculino  Marron\n",
       "1      Jade     30   Feminino   Loiro\n",
       "2     Ligia     10   Feminino   Preto"
      ]
     },
     "execution_count": 18,
     "metadata": {},
     "output_type": "execute_result"
    }
   ],
   "source": [
    "#tabelas perfeitas são importadas perfeitamente... o tabula não se dá muito bem com linhas mescladas\n",
    "\n",
    "from tabula import read_pdf\n",
    "\n",
    "df = read_pdf(\"D:/testetabela.pdf\")\n",
    "df"
   ]
  },
  {
   "cell_type": "code",
   "execution_count": 8,
   "metadata": {},
   "outputs": [
    {
     "data": {
      "text/plain": [
       "Nome       Vinicius\n",
       "Idade            22\n",
       "Sexo      Masculino\n",
       "Cabelo       Marron\n",
       "Name: 0, dtype: object"
      ]
     },
     "execution_count": 8,
     "metadata": {},
     "output_type": "execute_result"
    }
   ],
   "source": [
    "# pega a primeira row inteira\n",
    "df.iloc[0]"
   ]
  },
  {
   "cell_type": "code",
   "execution_count": 9,
   "metadata": {},
   "outputs": [
    {
     "data": {
      "text/plain": [
       "'Vinicius'"
      ]
     },
     "execution_count": 9,
     "metadata": {},
     "output_type": "execute_result"
    }
   ],
   "source": [
    "# pega o primeiro dado\n",
    "df.iloc[0][0]"
   ]
  },
  {
   "cell_type": "code",
   "execution_count": 12,
   "metadata": {},
   "outputs": [
    {
     "data": {
      "text/plain": [
       "4"
      ]
     },
     "execution_count": 12,
     "metadata": {},
     "output_type": "execute_result"
    }
   ],
   "source": [
    "#conta quantos itens tem na lista\n",
    "len(df.iloc[0])"
   ]
  }
 ],
 "metadata": {
  "kernelspec": {
   "display_name": "Python 3",
   "language": "python",
   "name": "python3"
  },
  "language_info": {
   "codemirror_mode": {
    "name": "ipython",
    "version": 3
   },
   "file_extension": ".py",
   "mimetype": "text/x-python",
   "name": "python",
   "nbconvert_exporter": "python",
   "pygments_lexer": "ipython3",
   "version": "3.6.5"
  },
  "varInspector": {
   "cols": {
    "lenName": 16,
    "lenType": 16,
    "lenVar": 40
   },
   "kernels_config": {
    "python": {
     "delete_cmd_postfix": "",
     "delete_cmd_prefix": "del ",
     "library": "var_list.py",
     "varRefreshCmd": "print(var_dic_list())"
    },
    "r": {
     "delete_cmd_postfix": ") ",
     "delete_cmd_prefix": "rm(",
     "library": "var_list.r",
     "varRefreshCmd": "cat(var_dic_list()) "
    }
   },
   "types_to_exclude": [
    "module",
    "function",
    "builtin_function_or_method",
    "instance",
    "_Feature"
   ],
   "window_display": false
  }
 },
 "nbformat": 4,
 "nbformat_minor": 2
}
